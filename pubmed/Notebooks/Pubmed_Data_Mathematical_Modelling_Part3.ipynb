{
 "cells": [
  {
   "cell_type": "code",
   "execution_count": 2,
   "id": "d0c1f683-2e70-4b0e-8467-8f6a7109e6a9",
   "metadata": {},
   "outputs": [],
   "source": [
    "import pandas as pd\n",
    "import numpy as np\n",
    "\n",
    "df = pd.read_csv(\"/Users/amulya/Desktop/Biomedical-Text-Extraction-main/pubmed/Csv_files/final_pubmed_v3.csv\")"
   ]
  },
  {
   "cell_type": "code",
   "execution_count": 2,
   "id": "857bfbde-aa37-4d28-96f9-6950216990ab",
   "metadata": {
    "scrolled": true
   },
   "outputs": [
    {
     "data": {
      "text/html": [
       "<div>\n",
       "<style scoped>\n",
       "    .dataframe tbody tr th:only-of-type {\n",
       "        vertical-align: middle;\n",
       "    }\n",
       "\n",
       "    .dataframe tbody tr th {\n",
       "        vertical-align: top;\n",
       "    }\n",
       "\n",
       "    .dataframe thead th {\n",
       "        text-align: right;\n",
       "    }\n",
       "</style>\n",
       "<table border=\"1\" class=\"dataframe\">\n",
       "  <thead>\n",
       "    <tr style=\"text-align: right;\">\n",
       "      <th></th>\n",
       "      <th>Unnamed: 0</th>\n",
       "      <th>Title</th>\n",
       "      <th>Abstract</th>\n",
       "      <th>Journal</th>\n",
       "      <th>Language</th>\n",
       "      <th>Year</th>\n",
       "      <th>Month</th>\n",
       "      <th>Authors</th>\n",
       "      <th>Affiliations</th>\n",
       "      <th>Name</th>\n",
       "      <th>...</th>\n",
       "      <th>Impact_Factor</th>\n",
       "      <th>Impact_Factor_5Years</th>\n",
       "      <th>Journal_Category</th>\n",
       "      <th>Universities</th>\n",
       "      <th>Study_Type_Extracted</th>\n",
       "      <th>Standardized_University</th>\n",
       "      <th>Rank</th>\n",
       "      <th>Research_Score</th>\n",
       "      <th>Rank_Median</th>\n",
       "      <th>Research_Score_Category</th>\n",
       "    </tr>\n",
       "  </thead>\n",
       "  <tbody>\n",
       "    <tr>\n",
       "      <th>0</th>\n",
       "      <td>0</td>\n",
       "      <td>prevalence and association of sleep duration a...</td>\n",
       "      <td>this study aimed to examine the prevalence of ...</td>\n",
       "      <td>bmc public health</td>\n",
       "      <td>eng</td>\n",
       "      <td>2024</td>\n",
       "      <td>Nov</td>\n",
       "      <td>Zhou Zigui, Tian Xuewen</td>\n",
       "      <td>school of exercise and health, shanghai univer...</td>\n",
       "      <td>bmc public health</td>\n",
       "      <td>...</td>\n",
       "      <td>3.5</td>\n",
       "      <td>3.9</td>\n",
       "      <td>PUBLIC, ENVIRONMENTAL &amp; OCCUPATIONAL HEALTH|Q1...</td>\n",
       "      <td>school of exercise and health, shanghai univer...</td>\n",
       "      <td>Unknown</td>\n",
       "      <td>shanghai university</td>\n",
       "      <td>501–600</td>\n",
       "      <td>38.0</td>\n",
       "      <td>550.5</td>\n",
       "      <td>Low (0-50)</td>\n",
       "    </tr>\n",
       "    <tr>\n",
       "      <th>1</th>\n",
       "      <td>1</td>\n",
       "      <td>the impact of pparγ and apoe gene polymorphism...</td>\n",
       "      <td>globally, diabetic kidney disease (dkd) has be...</td>\n",
       "      <td>bmc nephrology</td>\n",
       "      <td>eng</td>\n",
       "      <td>2024</td>\n",
       "      <td>Nov</td>\n",
       "      <td>Taurbekova Binura, Mukhtarova Kymbat, Salpynov...</td>\n",
       "      <td>department of biomedical sciences, school of m...</td>\n",
       "      <td>bmc nephrology</td>\n",
       "      <td>...</td>\n",
       "      <td>2.2</td>\n",
       "      <td>2.6</td>\n",
       "      <td>UROLOGY &amp; NEPHROLOGY|Q2|54/126</td>\n",
       "      <td>school of medicine, nazarbayev university, sch...</td>\n",
       "      <td>meta-analysis</td>\n",
       "      <td>nazarbayev university</td>\n",
       "      <td>501–600</td>\n",
       "      <td>29.5</td>\n",
       "      <td>550.5</td>\n",
       "      <td>Low (0-50)</td>\n",
       "    </tr>\n",
       "    <tr>\n",
       "      <th>2</th>\n",
       "      <td>2</td>\n",
       "      <td>immune checkpoint landscape of human atheroscl...</td>\n",
       "      <td>immune checkpoint inhibitor (ici) therapies ca...</td>\n",
       "      <td>nature cardiovascular research</td>\n",
       "      <td>eng</td>\n",
       "      <td>2024</td>\n",
       "      <td>Nov</td>\n",
       "      <td>Barcia Durán José Gabriel, Das Dayasagar, Gild...</td>\n",
       "      <td>nyu cardiovascular research center, division o...</td>\n",
       "      <td>nature cardiovascular research</td>\n",
       "      <td>...</td>\n",
       "      <td>9.4</td>\n",
       "      <td>9.4</td>\n",
       "      <td>CARDIAC &amp; CARDIOVASCULAR SYSTEMS|Q1|13/220</td>\n",
       "      <td>nyu cardiovascular research center, department...</td>\n",
       "      <td>clinical development</td>\n",
       "      <td>york university</td>\n",
       "      <td>351–400</td>\n",
       "      <td>32.4</td>\n",
       "      <td>375.5</td>\n",
       "      <td>Low (0-50)</td>\n",
       "    </tr>\n",
       "    <tr>\n",
       "      <th>3</th>\n",
       "      <td>3</td>\n",
       "      <td>ezrin drives adaptation of monocytes to the in...</td>\n",
       "      <td>ezrin, an actin-binding protein, orchestrates ...</td>\n",
       "      <td>cell death &amp; disease</td>\n",
       "      <td>eng</td>\n",
       "      <td>2024</td>\n",
       "      <td>Nov</td>\n",
       "      <td>Gudneppanavar Ravindra, Di Pietro Caterina, H ...</td>\n",
       "      <td>department of pediatrics, school of medicine, ...</td>\n",
       "      <td>cell death &amp; disease</td>\n",
       "      <td>...</td>\n",
       "      <td>8.1</td>\n",
       "      <td>8.6</td>\n",
       "      <td>CELL BIOLOGY|Q1|33/205</td>\n",
       "      <td>school of medicine, yale university, school of...</td>\n",
       "      <td>Unknown</td>\n",
       "      <td>yale university</td>\n",
       "      <td>10</td>\n",
       "      <td>94.9</td>\n",
       "      <td>10.0</td>\n",
       "      <td>High (75-100)</td>\n",
       "    </tr>\n",
       "    <tr>\n",
       "      <th>4</th>\n",
       "      <td>4</td>\n",
       "      <td>determining the quality of life and associated...</td>\n",
       "      <td>this study aimed to determine the quality of l...</td>\n",
       "      <td>journal of tissue viability</td>\n",
       "      <td>eng</td>\n",
       "      <td>2024</td>\n",
       "      <td>Nov</td>\n",
       "      <td>Gül Şenay, Demir Ayşe Sılanur, Karadağ Ayişe, ...</td>\n",
       "      <td>faculty of nursing, hacettepe university, anka...</td>\n",
       "      <td>journal of tissue viability</td>\n",
       "      <td>...</td>\n",
       "      <td>2.4</td>\n",
       "      <td>2.9</td>\n",
       "      <td>NURSING|Q1|35/191</td>\n",
       "      <td>hacettepe university, koc university, school o...</td>\n",
       "      <td>Unknown</td>\n",
       "      <td>hacettepe university</td>\n",
       "      <td>601–800</td>\n",
       "      <td>26.8</td>\n",
       "      <td>700.5</td>\n",
       "      <td>Low (0-50)</td>\n",
       "    </tr>\n",
       "  </tbody>\n",
       "</table>\n",
       "<p>5 rows × 23 columns</p>\n",
       "</div>"
      ],
      "text/plain": [
       "   Unnamed: 0                                              Title  \\\n",
       "0           0  prevalence and association of sleep duration a...   \n",
       "1           1  the impact of pparγ and apoe gene polymorphism...   \n",
       "2           2  immune checkpoint landscape of human atheroscl...   \n",
       "3           3  ezrin drives adaptation of monocytes to the in...   \n",
       "4           4  determining the quality of life and associated...   \n",
       "\n",
       "                                            Abstract  \\\n",
       "0  this study aimed to examine the prevalence of ...   \n",
       "1  globally, diabetic kidney disease (dkd) has be...   \n",
       "2  immune checkpoint inhibitor (ici) therapies ca...   \n",
       "3  ezrin, an actin-binding protein, orchestrates ...   \n",
       "4  this study aimed to determine the quality of l...   \n",
       "\n",
       "                          Journal Language  Year Month  \\\n",
       "0               bmc public health      eng  2024   Nov   \n",
       "1                  bmc nephrology      eng  2024   Nov   \n",
       "2  nature cardiovascular research      eng  2024   Nov   \n",
       "3            cell death & disease      eng  2024   Nov   \n",
       "4     journal of tissue viability      eng  2024   Nov   \n",
       "\n",
       "                                             Authors  \\\n",
       "0                            Zhou Zigui, Tian Xuewen   \n",
       "1  Taurbekova Binura, Mukhtarova Kymbat, Salpynov...   \n",
       "2  Barcia Durán José Gabriel, Das Dayasagar, Gild...   \n",
       "3  Gudneppanavar Ravindra, Di Pietro Caterina, H ...   \n",
       "4  Gül Şenay, Demir Ayşe Sılanur, Karadağ Ayişe, ...   \n",
       "\n",
       "                                        Affiliations  \\\n",
       "0  school of exercise and health, shanghai univer...   \n",
       "1  department of biomedical sciences, school of m...   \n",
       "2  nyu cardiovascular research center, division o...   \n",
       "3  department of pediatrics, school of medicine, ...   \n",
       "4  faculty of nursing, hacettepe university, anka...   \n",
       "\n",
       "                             Name  ... Impact_Factor Impact_Factor_5Years  \\\n",
       "0               bmc public health  ...           3.5                  3.9   \n",
       "1                  bmc nephrology  ...           2.2                  2.6   \n",
       "2  nature cardiovascular research  ...           9.4                  9.4   \n",
       "3            cell death & disease  ...           8.1                  8.6   \n",
       "4     journal of tissue viability  ...           2.4                  2.9   \n",
       "\n",
       "                                    Journal_Category  \\\n",
       "0  PUBLIC, ENVIRONMENTAL & OCCUPATIONAL HEALTH|Q1...   \n",
       "1                     UROLOGY & NEPHROLOGY|Q2|54/126   \n",
       "2         CARDIAC & CARDIOVASCULAR SYSTEMS|Q1|13/220   \n",
       "3                             CELL BIOLOGY|Q1|33/205   \n",
       "4                                  NURSING|Q1|35/191   \n",
       "\n",
       "                                        Universities  Study_Type_Extracted  \\\n",
       "0  school of exercise and health, shanghai univer...               Unknown   \n",
       "1  school of medicine, nazarbayev university, sch...         meta-analysis   \n",
       "2  nyu cardiovascular research center, department...  clinical development   \n",
       "3  school of medicine, yale university, school of...               Unknown   \n",
       "4  hacettepe university, koc university, school o...               Unknown   \n",
       "\n",
       "  Standardized_University     Rank Research_Score Rank_Median  \\\n",
       "0     shanghai university  501–600           38.0       550.5   \n",
       "1   nazarbayev university  501–600           29.5       550.5   \n",
       "2         york university  351–400           32.4       375.5   \n",
       "3         yale university       10           94.9        10.0   \n",
       "4    hacettepe university  601–800           26.8       700.5   \n",
       "\n",
       "  Research_Score_Category  \n",
       "0              Low (0-50)  \n",
       "1              Low (0-50)  \n",
       "2              Low (0-50)  \n",
       "3           High (75-100)  \n",
       "4              Low (0-50)  \n",
       "\n",
       "[5 rows x 23 columns]"
      ]
     },
     "execution_count": 2,
     "metadata": {},
     "output_type": "execute_result"
    }
   ],
   "source": [
    "df.head()"
   ]
  },
  {
   "cell_type": "code",
   "execution_count": 3,
   "id": "6722dc95-c903-472b-9359-5bbd1c845d6b",
   "metadata": {},
   "outputs": [
    {
     "name": "stdout",
     "output_type": "stream",
     "text": [
      "Profiling GMM Clusters\n",
      "Cluster Profiles for GMM_Cluster:\n",
      "\n",
      "             Impact_Factor_5Years  Research_Score\n",
      "GMM_Cluster                                      \n",
      "0                        3.358442       28.812121\n",
      "1                        5.511864       63.382627\n",
      "2                       21.829545       63.150000\n",
      "Silhouette Score for GMM Clustering: 0.3877705258707141\n"
     ]
    },
    {
     "data": {
      "image/png": "[encoded data removed]",
      "text/plain": [
       "<Figure size 800x600 with 1 Axes>"
      ]
     },
     "metadata": {},
     "output_type": "display_data"
    }
   ],
   "source": [
    "# Preprocessing: Select relevant numerical features and handle missing values\n",
    "from sklearn.preprocessing import StandardScaler\n",
    "from sklearn.decomposition import PCA\n",
    "from sklearn.cluster import KMeans, DBSCAN\n",
    "from sklearn.mixture import GaussianMixture\n",
    "from sklearn.metrics import silhouette_score\n",
    "import matplotlib.pyplot as plt\n",
    "import seaborn as sns\n",
    "# Define numerical features\n",
    "numerical_features = ['Impact_Factor_5Years', 'Research_Score']  # Replace with your actual column names\n",
    "\n",
    "data_subset = df[numerical_features].copy()\n",
    "# data_subset = data_subset.fillna(data_subset.mean())  # Fill missing values with mean (or other strategy)\n",
    "\n",
    "# Standardize the data\n",
    "scaler = StandardScaler()\n",
    "data_scaled = scaler.fit_transform(data_subset)\n",
    "\n",
    "# Step 2: Gaussian Mixture Model (GMM) Clustering\n",
    "gmm = GaussianMixture(n_components=3, random_state=42)\n",
    "gmm_labels = gmm.fit_predict(data_scaled)\n",
    "df['GMM_Cluster'] = gmm_labels\n",
    "\n",
    "# Step 3: Profile the Clusters\n",
    "def profile_clusters(data, cluster_col, features):\n",
    "    cluster_profiles = data.groupby(cluster_col)[features].mean()\n",
    "    print(f\"Cluster Profiles for {cluster_col}:\\n\")\n",
    "    print(cluster_profiles)\n",
    "    return cluster_profiles\n",
    "\n",
    "# Profile GMM Clusters\n",
    "print(\"Profiling GMM Clusters\")\n",
    "gmm_profiles = profile_clusters(df, 'GMM_Cluster', numerical_features)\n",
    "\n",
    "# Evaluate GMM Clustering\n",
    "silhouette_gmm = silhouette_score(data_scaled, gmm_labels)\n",
    "print(f\"Silhouette Score for GMM Clustering: {silhouette_gmm}\")\n",
    "\n",
    "# Visualize GMM Clusters with actual features\n",
    "plt.figure(figsize=(8, 6))\n",
    "sns.scatterplot(\n",
    "    x=df['Research_Score'], \n",
    "    y=df['Impact_Factor_5Years'], \n",
    "    hue=gmm_labels, \n",
    "    palette='coolwarm', \n",
    "    alpha=0.7\n",
    ")\n",
    "plt.title('Gaussian Mixture Model (GMM) Clustering')\n",
    "plt.xlabel('Research Score')\n",
    "plt.ylabel('Impact Factor (5 Years)')\n",
    "plt.legend(title='Cluster')\n",
    "plt.grid(True)\n",
    "plt.show()\n"
   ]
  },
  {
   "cell_type": "code",
   "execution_count": 4,
   "id": "03606304-0eb7-4ae2-b849-45f6a7c97722",
   "metadata": {},
   "outputs": [
    {
     "name": "stdout",
     "output_type": "stream",
     "text": [
      "-2.125774594213408\n",
      "15\n"
     ]
    }
   ],
   "source": [
    "# print the converged log-likelihood value\n",
    "print(gmm.lower_bound_)\n",
    " \n",
    "# print the number of iterations needed\n",
    "# for the log-likelihood value to converge\n",
    "print(gmm.n_iter_)"
   ]
  },
  {
   "cell_type": "code",
   "execution_count": 8,
   "id": "ff42b635-4d7c-48d0-9667-b453ddc052b7",
   "metadata": {},
   "outputs": [
    {
     "name": "stdout",
     "output_type": "stream",
     "text": [
      "Feature Weights Based on Cluster-Centric Variance Ratios:\n",
      "Impact_Factor_5Years    0.784521\n",
      "Research_Score          0.215479\n",
      "dtype: float64\n",
      "\n",
      "Scoring Equation:\n",
      "Score = 0.7845 * Impact_Factor_5Years + 0.2155 * Research_Score\n"
     ]
    }
   ],
   "source": [
    "# Calculate total variance for each feature\n",
    "total_variance = df[numerical_features].var()\n",
    "\n",
    "# Calculate between-cluster variance\n",
    "cluster_means = gmm_profiles.mean(axis=0)\n",
    "between_cluster_variance = gmm_profiles.var()\n",
    "\n",
    "# Calculate within-cluster variance\n",
    "within_cluster_variance = total_variance - between_cluster_variance\n",
    "\n",
    "# Calculate importance ratios\n",
    "importance_ratios = between_cluster_variance / total_variance\n",
    "\n",
    "# Normalize importance ratios to sum to 1\n",
    "weights = importance_ratios / importance_ratios.sum()\n",
    "\n",
    "print(\"Feature Weights Based on Cluster-Centric Variance Ratios:\")\n",
    "print(weights)\n",
    "\n",
    "# Develop the scoring equation\n",
    "impact_factor_weight = weights['Impact_Factor_5Years']\n",
    "research_score_weight = weights['Research_Score']\n",
    "#rank_median_weight = weights['Rank_Median']\n",
    "\n",
    "print(\"\\nScoring Equation:\")\n",
    "print(f\"Score = {impact_factor_weight:.4f} * Impact_Factor_5Years + \"\n",
    "      f\"{research_score_weight:.4f} * Research_Score\")\n"
   ]
  },
  {
   "cell_type": "code",
   "execution_count": 27,
   "id": "350be4a6-83ae-4479-af2e-df98d4581e7f",
   "metadata": {},
   "outputs": [],
   "source": [
    "# Calculate the scoring equation\n",
    "df['Score'] = (\n",
    "    impact_factor_weight * df['Impact_Factor_5Years'] +\n",
    "    research_score_weight * df['Research_Score'] \n",
    "    #rank_median_weight * df['Rank_Median']\n",
    ")\n"
   ]
  },
  {
   "cell_type": "code",
   "execution_count": 9,
   "id": "cabc3e0b-c157-4ce6-9eec-dac0ec0fcba1",
   "metadata": {},
   "outputs": [
    {
     "data": {
      "text/html": [
       "<div>\n",
       "<style scoped>\n",
       "    .dataframe tbody tr th:only-of-type {\n",
       "        vertical-align: middle;\n",
       "    }\n",
       "\n",
       "    .dataframe tbody tr th {\n",
       "        vertical-align: top;\n",
       "    }\n",
       "\n",
       "    .dataframe thead th {\n",
       "        text-align: right;\n",
       "    }\n",
       "</style>\n",
       "<table border=\"1\" class=\"dataframe\">\n",
       "  <thead>\n",
       "    <tr style=\"text-align: right;\">\n",
       "      <th></th>\n",
       "      <th>Unnamed: 0</th>\n",
       "      <th>Title</th>\n",
       "      <th>Abstract</th>\n",
       "      <th>Journal</th>\n",
       "      <th>Language</th>\n",
       "      <th>Year</th>\n",
       "      <th>Month</th>\n",
       "      <th>Authors</th>\n",
       "      <th>Affiliations</th>\n",
       "      <th>Name</th>\n",
       "      <th>...</th>\n",
       "      <th>Journal_Category</th>\n",
       "      <th>Universities</th>\n",
       "      <th>Study_Type_Extracted</th>\n",
       "      <th>Standardized_University</th>\n",
       "      <th>Rank</th>\n",
       "      <th>Research_Score</th>\n",
       "      <th>Rank_Median</th>\n",
       "      <th>Research_Score_Category</th>\n",
       "      <th>GMM_Cluster</th>\n",
       "      <th>Score</th>\n",
       "    </tr>\n",
       "  </thead>\n",
       "  <tbody>\n",
       "    <tr>\n",
       "      <th>0</th>\n",
       "      <td>0</td>\n",
       "      <td>prevalence and association of sleep duration a...</td>\n",
       "      <td>this study aimed to examine the prevalence of ...</td>\n",
       "      <td>bmc public health</td>\n",
       "      <td>eng</td>\n",
       "      <td>2024</td>\n",
       "      <td>Nov</td>\n",
       "      <td>Zhou Zigui, Tian Xuewen</td>\n",
       "      <td>school of exercise and health, shanghai univer...</td>\n",
       "      <td>bmc public health</td>\n",
       "      <td>...</td>\n",
       "      <td>PUBLIC, ENVIRONMENTAL &amp; OCCUPATIONAL HEALTH|Q1...</td>\n",
       "      <td>school of exercise and health, shanghai univer...</td>\n",
       "      <td>Unknown</td>\n",
       "      <td>shanghai university</td>\n",
       "      <td>501–600</td>\n",
       "      <td>38.0</td>\n",
       "      <td>550.5</td>\n",
       "      <td>Low (0-50)</td>\n",
       "      <td>0</td>\n",
       "      <td>11.247839</td>\n",
       "    </tr>\n",
       "    <tr>\n",
       "      <th>1</th>\n",
       "      <td>1</td>\n",
       "      <td>the impact of pparγ and apoe gene polymorphism...</td>\n",
       "      <td>globally, diabetic kidney disease (dkd) has be...</td>\n",
       "      <td>bmc nephrology</td>\n",
       "      <td>eng</td>\n",
       "      <td>2024</td>\n",
       "      <td>Nov</td>\n",
       "      <td>Taurbekova Binura, Mukhtarova Kymbat, Salpynov...</td>\n",
       "      <td>department of biomedical sciences, school of m...</td>\n",
       "      <td>bmc nephrology</td>\n",
       "      <td>...</td>\n",
       "      <td>UROLOGY &amp; NEPHROLOGY|Q2|54/126</td>\n",
       "      <td>school of medicine, nazarbayev university, sch...</td>\n",
       "      <td>meta-analysis</td>\n",
       "      <td>nazarbayev university</td>\n",
       "      <td>501–600</td>\n",
       "      <td>29.5</td>\n",
       "      <td>550.5</td>\n",
       "      <td>Low (0-50)</td>\n",
       "      <td>0</td>\n",
       "      <td>8.396389</td>\n",
       "    </tr>\n",
       "    <tr>\n",
       "      <th>2</th>\n",
       "      <td>2</td>\n",
       "      <td>immune checkpoint landscape of human atheroscl...</td>\n",
       "      <td>immune checkpoint inhibitor (ici) therapies ca...</td>\n",
       "      <td>nature cardiovascular research</td>\n",
       "      <td>eng</td>\n",
       "      <td>2024</td>\n",
       "      <td>Nov</td>\n",
       "      <td>Barcia Durán José Gabriel, Das Dayasagar, Gild...</td>\n",
       "      <td>nyu cardiovascular research center, division o...</td>\n",
       "      <td>nature cardiovascular research</td>\n",
       "      <td>...</td>\n",
       "      <td>CARDIAC &amp; CARDIOVASCULAR SYSTEMS|Q1|13/220</td>\n",
       "      <td>nyu cardiovascular research center, department...</td>\n",
       "      <td>clinical development</td>\n",
       "      <td>york university</td>\n",
       "      <td>351–400</td>\n",
       "      <td>32.4</td>\n",
       "      <td>375.5</td>\n",
       "      <td>Low (0-50)</td>\n",
       "      <td>1</td>\n",
       "      <td>14.356020</td>\n",
       "    </tr>\n",
       "    <tr>\n",
       "      <th>3</th>\n",
       "      <td>3</td>\n",
       "      <td>ezrin drives adaptation of monocytes to the in...</td>\n",
       "      <td>ezrin, an actin-binding protein, orchestrates ...</td>\n",
       "      <td>cell death &amp; disease</td>\n",
       "      <td>eng</td>\n",
       "      <td>2024</td>\n",
       "      <td>Nov</td>\n",
       "      <td>Gudneppanavar Ravindra, Di Pietro Caterina, H ...</td>\n",
       "      <td>department of pediatrics, school of medicine, ...</td>\n",
       "      <td>cell death &amp; disease</td>\n",
       "      <td>...</td>\n",
       "      <td>CELL BIOLOGY|Q1|33/205</td>\n",
       "      <td>school of medicine, yale university, school of...</td>\n",
       "      <td>Unknown</td>\n",
       "      <td>yale university</td>\n",
       "      <td>10</td>\n",
       "      <td>94.9</td>\n",
       "      <td>10.0</td>\n",
       "      <td>High (75-100)</td>\n",
       "      <td>1</td>\n",
       "      <td>27.195850</td>\n",
       "    </tr>\n",
       "    <tr>\n",
       "      <th>4</th>\n",
       "      <td>4</td>\n",
       "      <td>determining the quality of life and associated...</td>\n",
       "      <td>this study aimed to determine the quality of l...</td>\n",
       "      <td>journal of tissue viability</td>\n",
       "      <td>eng</td>\n",
       "      <td>2024</td>\n",
       "      <td>Nov</td>\n",
       "      <td>Gül Şenay, Demir Ayşe Sılanur, Karadağ Ayişe, ...</td>\n",
       "      <td>faculty of nursing, hacettepe university, anka...</td>\n",
       "      <td>journal of tissue viability</td>\n",
       "      <td>...</td>\n",
       "      <td>NURSING|Q1|35/191</td>\n",
       "      <td>hacettepe university, koc university, school o...</td>\n",
       "      <td>Unknown</td>\n",
       "      <td>hacettepe university</td>\n",
       "      <td>601–800</td>\n",
       "      <td>26.8</td>\n",
       "      <td>700.5</td>\n",
       "      <td>Low (0-50)</td>\n",
       "      <td>0</td>\n",
       "      <td>8.049951</td>\n",
       "    </tr>\n",
       "  </tbody>\n",
       "</table>\n",
       "<p>5 rows × 25 columns</p>\n",
       "</div>"
      ],
      "text/plain": [
       "   Unnamed: 0                                              Title  \\\n",
       "0           0  prevalence and association of sleep duration a...   \n",
       "1           1  the impact of pparγ and apoe gene polymorphism...   \n",
       "2           2  immune checkpoint landscape of human atheroscl...   \n",
       "3           3  ezrin drives adaptation of monocytes to the in...   \n",
       "4           4  determining the quality of life and associated...   \n",
       "\n",
       "                                            Abstract  \\\n",
       "0  this study aimed to examine the prevalence of ...   \n",
       "1  globally, diabetic kidney disease (dkd) has be...   \n",
       "2  immune checkpoint inhibitor (ici) therapies ca...   \n",
       "3  ezrin, an actin-binding protein, orchestrates ...   \n",
       "4  this study aimed to determine the quality of l...   \n",
       "\n",
       "                          Journal Language  Year Month  \\\n",
       "0               bmc public health      eng  2024   Nov   \n",
       "1                  bmc nephrology      eng  2024   Nov   \n",
       "2  nature cardiovascular research      eng  2024   Nov   \n",
       "3            cell death & disease      eng  2024   Nov   \n",
       "4     journal of tissue viability      eng  2024   Nov   \n",
       "\n",
       "                                             Authors  \\\n",
       "0                            Zhou Zigui, Tian Xuewen   \n",
       "1  Taurbekova Binura, Mukhtarova Kymbat, Salpynov...   \n",
       "2  Barcia Durán José Gabriel, Das Dayasagar, Gild...   \n",
       "3  Gudneppanavar Ravindra, Di Pietro Caterina, H ...   \n",
       "4  Gül Şenay, Demir Ayşe Sılanur, Karadağ Ayişe, ...   \n",
       "\n",
       "                                        Affiliations  \\\n",
       "0  school of exercise and health, shanghai univer...   \n",
       "1  department of biomedical sciences, school of m...   \n",
       "2  nyu cardiovascular research center, division o...   \n",
       "3  department of pediatrics, school of medicine, ...   \n",
       "4  faculty of nursing, hacettepe university, anka...   \n",
       "\n",
       "                             Name  ...  \\\n",
       "0               bmc public health  ...   \n",
       "1                  bmc nephrology  ...   \n",
       "2  nature cardiovascular research  ...   \n",
       "3            cell death & disease  ...   \n",
       "4     journal of tissue viability  ...   \n",
       "\n",
       "                                    Journal_Category  \\\n",
       "0  PUBLIC, ENVIRONMENTAL & OCCUPATIONAL HEALTH|Q1...   \n",
       "1                     UROLOGY & NEPHROLOGY|Q2|54/126   \n",
       "2         CARDIAC & CARDIOVASCULAR SYSTEMS|Q1|13/220   \n",
       "3                             CELL BIOLOGY|Q1|33/205   \n",
       "4                                  NURSING|Q1|35/191   \n",
       "\n",
       "                                        Universities  Study_Type_Extracted  \\\n",
       "0  school of exercise and health, shanghai univer...               Unknown   \n",
       "1  school of medicine, nazarbayev university, sch...         meta-analysis   \n",
       "2  nyu cardiovascular research center, department...  clinical development   \n",
       "3  school of medicine, yale university, school of...               Unknown   \n",
       "4  hacettepe university, koc university, school o...               Unknown   \n",
       "\n",
       "   Standardized_University     Rank Research_Score Rank_Median  \\\n",
       "0      shanghai university  501–600           38.0       550.5   \n",
       "1    nazarbayev university  501–600           29.5       550.5   \n",
       "2          york university  351–400           32.4       375.5   \n",
       "3          yale university       10           94.9        10.0   \n",
       "4     hacettepe university  601–800           26.8       700.5   \n",
       "\n",
       "  Research_Score_Category GMM_Cluster      Score  \n",
       "0              Low (0-50)           0  11.247839  \n",
       "1              Low (0-50)           0   8.396389  \n",
       "2              Low (0-50)           1  14.356020  \n",
       "3           High (75-100)           1  27.195850  \n",
       "4              Low (0-50)           0   8.049951  \n",
       "\n",
       "[5 rows x 25 columns]"
      ]
     },
     "execution_count": 9,
     "metadata": {},
     "output_type": "execute_result"
    }
   ],
   "source": [
    "df.head()"
   ]
  },
  {
   "cell_type": "code",
   "execution_count": 12,
   "id": "1d0fccc5-0a9e-4245-92b3-ff53ff3d6d7b",
   "metadata": {},
   "outputs": [],
   "source": [
    "import plotly.express as px\n",
    "top_count = 10  # Number of top articles you want to see\n",
    "top_tier_df = df.nlargest(top_count, 'Score')\n"
   ]
  },
  {
   "cell_type": "code",
   "execution_count": 31,
   "id": "a027c81d-7838-452d-9c2a-ce04043ab062",
   "metadata": {},
   "outputs": [
    {
     "data": {
      "application/vnd.plotly.v1+json": {
       "config": {
        "plotlyServerURL": "https://plot.ly"
       },
       "data": [
        {
         "alignmentgroup": "True",
         "customdata": [
          [
           "Unknown",
           "stanford university"
          ],
          [
           "Unknown",
           "cornell university"
          ],
          [
           "brain-wide association studies",
           "vanderbilt university"
          ]
         ],
         "hovertemplate": "Journal=nature<br>Score=%{x}<br>Title=%{y}<br>Study_Type_Extracted=%{customdata[0]}<br>Standardized_University=%{customdata[1]}<extra></extra>",
         "legendgroup": "nature",
         "marker": {
          "color": "#636efa",
          "pattern": {
           "shape": ""
          }
         },
         "name": "nature",
         "offsetgroup": "nature",
         "orientation": "h",
         "showlegend": true,
         "textposition": "auto",
         "type": "bar",
         "x": [
          63.751794655503254,
          61.79093448580096,
          53.12867307678642
         ],
         "xaxis": "x",
         "y": [
          "author correction: intravenous and intracranial gd2-car t cells for h3k27m<sup>+</sup> diffuse midline gliomas.",
          "fungal symbiont transmitted by free-living mice promotes type 2 immunity.",
          "study design features increase replicability in brain-wide association studies."
         ],
         "yaxis": "y"
        },
        {
         "alignmentgroup": "True",
         "customdata": [
          [
           "68 studies",
           "zhejiang university"
          ],
          [
           "scrinshot",
           "stockholm university"
          ]
         ],
         "hovertemplate": "Journal=nature methods<br>Score=%{x}<br>Title=%{y}<br>Study_Type_Extracted=%{customdata[0]}<br>Standardized_University=%{customdata[1]}<extra></extra>",
         "legendgroup": "nature methods",
         "marker": {
          "color": "#EF553B",
          "pattern": {
           "shape": ""
          }
         },
         "name": "nature methods",
         "offsetgroup": "nature methods",
         "orientation": "h",
         "showlegend": true,
         "textposition": "auto",
         "type": "bar",
         "x": [
          51.99973044397343,
          46.4619165581109
         ],
         "xaxis": "x",
         "y": [
          "integrative mapping of human cd8<sup>+</sup> t cells in inflammation and cancer.",
          "probe set selection for targeted spatial transcriptomics."
         ],
         "yaxis": "y"
        },
        {
         "alignmentgroup": "True",
         "customdata": [
          [
           "clinical trials",
           "zhejiang university"
          ],
          [
           "Unknown",
           "wuhan university"
          ]
         ],
         "hovertemplate": "Journal=molecular cancer<br>Score=%{x}<br>Title=%{y}<br>Study_Type_Extracted=%{customdata[0]}<br>Standardized_University=%{customdata[1]}<extra></extra>",
         "legendgroup": "molecular cancer",
         "marker": {
          "color": "#00cc96",
          "pattern": {
           "shape": ""
          }
         },
         "name": "molecular cancer",
         "offsetgroup": "molecular cancer",
         "orientation": "h",
         "showlegend": true,
         "textposition": "auto",
         "type": "bar",
         "x": [
          40.78108213921989,
          34.25206421152983
         ],
         "xaxis": "x",
         "y": [
          "pd-1/pd-l1 immune checkpoint blockade in breast cancer: research insights and sensitization strategies.",
          "cancer liquid biopsies by oxford nanopore technologies sequencing of cell-free dna: from basic research to clinical applications."
         ],
         "yaxis": "y"
        },
        {
         "alignmentgroup": "True",
         "customdata": [
          [
           "single-cell analyses",
           "sichuan university"
          ]
         ],
         "hovertemplate": "Journal=immunity<br>Score=%{x}<br>Title=%{y}<br>Study_Type_Extracted=%{customdata[0]}<br>Standardized_University=%{customdata[1]}<extra></extra>",
         "legendgroup": "immunity",
         "marker": {
          "color": "#ab63fa",
          "pattern": {
           "shape": ""
          }
         },
         "name": "immunity",
         "offsetgroup": "immunity",
         "orientation": "h",
         "showlegend": true,
         "textposition": "auto",
         "type": "bar",
         "x": [
          38.39304726261817
         ],
         "xaxis": "x",
         "y": [
          "hypoxia-inducible factor 2α promotes pathogenic polarization of stem-like th2 cells via modulation of phospholipid metabolism."
         ],
         "yaxis": "y"
        },
        {
         "alignmentgroup": "True",
         "customdata": [
          [
           "preclinical model",
           "zhejiang university"
          ],
          [
           "preclinical and clinical studies",
           "sichuan university"
          ]
         ],
         "hovertemplate": "Journal=journal of hematology & oncology<br>Score=%{x}<br>Title=%{y}<br>Study_Type_Extracted=%{customdata[0]}<br>Standardized_University=%{customdata[1]}<extra></extra>",
         "legendgroup": "journal of hematology & oncology",
         "marker": {
          "color": "#FFA15A",
          "pattern": {
           "shape": ""
          }
         },
         "name": "journal of hematology & oncology",
         "offsetgroup": "journal of hematology & oncology",
         "orientation": "h",
         "showlegend": true,
         "textposition": "auto",
         "type": "bar",
         "x": [
          37.32919035314188,
          33.450565841642835
         ],
         "xaxis": "x",
         "y": [
          "a clinical study of autologous chimeric antigen receptor macrophage targeting mesothelin shows safety in ovarian cancer therapy.",
          "personalized nanovaccines for treating solid cancer metastases."
         ],
         "yaxis": "y"
        }
       ],
       "layout": {
        "barmode": "relative",
        "height": 700,
        "legend": {
         "title": {
          "text": "Journal"
         },
         "tracegroupgap": 0
        },
        "margin": {
         "b": 50,
         "l": 500,
         "r": 50,
         "t": 80
        },
        "template": {
         "data": {
          "bar": [
           {
            "error_x": {
             "color": "#2a3f5f"
            },
            "error_y": {
             "color": "#2a3f5f"
            },
            "marker": {
             "line": {
              "color": "#E5ECF6",
              "width": 0.5
             },
             "pattern": {
              "fillmode": "overlay",
              "size": 10,
              "solidity": 0.2
             }
            },
            "type": "bar"
           }
          ],
          "barpolar": [
           {
            "marker": {
             "line": {
              "color": "#E5ECF6",
              "width": 0.5
             },
             "pattern": {
              "fillmode": "overlay",
              "size": 10,
              "solidity": 0.2
             }
            },
            "type": "barpolar"
           }
          ],
          "carpet": [
           {
            "aaxis": {
             "endlinecolor": "#2a3f5f",
             "gridcolor": "white",
             "linecolor": "white",
             "minorgridcolor": "white",
             "startlinecolor": "#2a3f5f"
            },
            "baxis": {
             "endlinecolor": "#2a3f5f",
             "gridcolor": "white",
             "linecolor": "white",
             "minorgridcolor": "white",
             "startlinecolor": "#2a3f5f"
            },
            "type": "carpet"
           }
          ],
          "choropleth": [
           {
            "colorbar": {
             "outlinewidth": 0,
             "ticks": ""
            },
            "type": "choropleth"
           }
          ],
          "contour": [
           {
            "colorbar": {
             "outlinewidth": 0,
             "ticks": ""
            },
            "colorscale": [
             [
              0,
              "#0d0887"
             ],
             [
              0.1111111111111111,
              "#46039f"
             ],
             [
              0.2222222222222222,
              "#7201a8"
             ],
             [
              0.3333333333333333,
              "#9c179e"
             ],
             [
              0.4444444444444444,
              "#bd3786"
             ],
             [
              0.5555555555555556,
              "#d8576b"
             ],
             [
              0.6666666666666666,
              "#ed7953"
             ],
             [
              0.7777777777777778,
              "#fb9f3a"
             ],
             [
              0.8888888888888888,
              "#fdca26"
             ],
             [
              1,
              "#f0f921"
             ]
            ],
            "type": "contour"
           }
          ],
          "contourcarpet": [
           {
            "colorbar": {
             "outlinewidth": 0,
             "ticks": ""
            },
            "type": "contourcarpet"
           }
          ],
          "heatmap": [
           {
            "colorbar": {
             "outlinewidth": 0,
             "ticks": ""
            },
            "colorscale": [
             [
              0,
              "#0d0887"
             ],
             [
              0.1111111111111111,
              "#46039f"
             ],
             [
              0.2222222222222222,
              "#7201a8"
             ],
             [
              0.3333333333333333,
              "#9c179e"
             ],
             [
              0.4444444444444444,
              "#bd3786"
             ],
             [
              0.5555555555555556,
              "#d8576b"
             ],
             [
              0.6666666666666666,
              "#ed7953"
             ],
             [
              0.7777777777777778,
              "#fb9f3a"
             ],
             [
              0.8888888888888888,
              "#fdca26"
             ],
             [
              1,
              "#f0f921"
             ]
            ],
            "type": "heatmap"
           }
          ],
          "heatmapgl": [
           {
            "colorbar": {
             "outlinewidth": 0,
             "ticks": ""
            },
            "colorscale": [
             [
              0,
              "#0d0887"
             ],
             [
              0.1111111111111111,
              "#46039f"
             ],
             [
              0.2222222222222222,
              "#7201a8"
             ],
             [
              0.3333333333333333,
              "#9c179e"
             ],
             [
              0.4444444444444444,
              "#bd3786"
             ],
             [
              0.5555555555555556,
              "#d8576b"
             ],
             [
              0.6666666666666666,
              "#ed7953"
             ],
             [
              0.7777777777777778,
              "#fb9f3a"
             ],
             [
              0.8888888888888888,
              "#fdca26"
             ],
             [
              1,
              "#f0f921"
             ]
            ],
            "type": "heatmapgl"
           }
          ],
          "histogram": [
           {
            "marker": {
             "pattern": {
              "fillmode": "overlay",
              "size": 10,
              "solidity": 0.2
             }
            },
            "type": "histogram"
           }
          ],
          "histogram2d": [
           {
            "colorbar": {
             "outlinewidth": 0,
             "ticks": ""
            },
            "colorscale": [
             [
              0,
              "#0d0887"
             ],
             [
              0.1111111111111111,
              "#46039f"
             ],
             [
              0.2222222222222222,
              "#7201a8"
             ],
             [
              0.3333333333333333,
              "#9c179e"
             ],
             [
              0.4444444444444444,
              "#bd3786"
             ],
             [
              0.5555555555555556,
              "#d8576b"
             ],
             [
              0.6666666666666666,
              "#ed7953"
             ],
             [
              0.7777777777777778,
              "#fb9f3a"
             ],
             [
              0.8888888888888888,
              "#fdca26"
             ],
             [
              1,
              "#f0f921"
             ]
            ],
            "type": "histogram2d"
           }
          ],
          "histogram2dcontour": [
           {
            "colorbar": {
             "outlinewidth": 0,
             "ticks": ""
            },
            "colorscale": [
             [
              0,
              "#0d0887"
             ],
             [
              0.1111111111111111,
              "#46039f"
             ],
             [
              0.2222222222222222,
              "#7201a8"
             ],
             [
              0.3333333333333333,
              "#9c179e"
             ],
             [
              0.4444444444444444,
              "#bd3786"
             ],
             [
              0.5555555555555556,
              "#d8576b"
             ],
             [
              0.6666666666666666,
              "#ed7953"
             ],
             [
              0.7777777777777778,
              "#fb9f3a"
             ],
             [
              0.8888888888888888,
              "#fdca26"
             ],
             [
              1,
              "#f0f921"
             ]
            ],
            "type": "histogram2dcontour"
           }
          ],
          "mesh3d": [
           {
            "colorbar": {
             "outlinewidth": 0,
             "ticks": ""
            },
            "type": "mesh3d"
           }
          ],
          "parcoords": [
           {
            "line": {
             "colorbar": {
              "outlinewidth": 0,
              "ticks": ""
             }
            },
            "type": "parcoords"
           }
          ],
          "pie": [
           {
            "automargin": true,
            "type": "pie"
           }
          ],
          "scatter": [
           {
            "fillpattern": {
             "fillmode": "overlay",
             "size": 10,
             "solidity": 0.2
            },
            "type": "scatter"
           }
          ],
          "scatter3d": [
           {
            "line": {
             "colorbar": {
              "outlinewidth": 0,
              "ticks": ""
             }
            },
            "marker": {
             "colorbar": {
              "outlinewidth": 0,
              "ticks": ""
             }
            },
            "type": "scatter3d"
           }
          ],
          "scattercarpet": [
           {
            "marker": {
             "colorbar": {
              "outlinewidth": 0,
              "ticks": ""
             }
            },
            "type": "scattercarpet"
           }
          ],
          "scattergeo": [
           {
            "marker": {
             "colorbar": {
              "outlinewidth": 0,
              "ticks": ""
             }
            },
            "type": "scattergeo"
           }
          ],
          "scattergl": [
           {
            "marker": {
             "colorbar": {
              "outlinewidth": 0,
              "ticks": ""
             }
            },
            "type": "scattergl"
           }
          ],
          "scattermapbox": [
           {
            "marker": {
             "colorbar": {
              "outlinewidth": 0,
              "ticks": ""
             }
            },
            "type": "scattermapbox"
           }
          ],
          "scatterpolar": [
           {
            "marker": {
             "colorbar": {
              "outlinewidth": 0,
              "ticks": ""
             }
            },
            "type": "scatterpolar"
           }
          ],
          "scatterpolargl": [
           {
            "marker": {
             "colorbar": {
              "outlinewidth": 0,
              "ticks": ""
             }
            },
            "type": "scatterpolargl"
           }
          ],
          "scatterternary": [
           {
            "marker": {
             "colorbar": {
              "outlinewidth": 0,
              "ticks": ""
             }
            },
            "type": "scatterternary"
           }
          ],
          "surface": [
           {
            "colorbar": {
             "outlinewidth": 0,
             "ticks": ""
            },
            "colorscale": [
             [
              0,
              "#0d0887"
             ],
             [
              0.1111111111111111,
              "#46039f"
             ],
             [
              0.2222222222222222,
              "#7201a8"
             ],
             [
              0.3333333333333333,
              "#9c179e"
             ],
             [
              0.4444444444444444,
              "#bd3786"
             ],
             [
              0.5555555555555556,
              "#d8576b"
             ],
             [
              0.6666666666666666,
              "#ed7953"
             ],
             [
              0.7777777777777778,
              "#fb9f3a"
             ],
             [
              0.8888888888888888,
              "#fdca26"
             ],
             [
              1,
              "#f0f921"
             ]
            ],
            "type": "surface"
           }
          ],
          "table": [
           {
            "cells": {
             "fill": {
              "color": "#EBF0F8"
             },
             "line": {
              "color": "white"
             }
            },
            "header": {
             "fill": {
              "color": "#C8D4E3"
             },
             "line": {
              "color": "white"
             }
            },
            "type": "table"
           }
          ]
         },
         "layout": {
          "annotationdefaults": {
           "arrowcolor": "#2a3f5f",
           "arrowhead": 0,
           "arrowwidth": 1
          },
          "autotypenumbers": "strict",
          "coloraxis": {
           "colorbar": {
            "outlinewidth": 0,
            "ticks": ""
           }
          },
          "colorscale": {
           "diverging": [
            [
             0,
             "#8e0152"
            ],
            [
             0.1,
             "#c51b7d"
            ],
            [
             0.2,
             "#de77ae"
            ],
            [
             0.3,
             "#f1b6da"
            ],
            [
             0.4,
             "#fde0ef"
            ],
            [
             0.5,
             "#f7f7f7"
            ],
            [
             0.6,
             "#e6f5d0"
            ],
            [
             0.7,
             "#b8e186"
            ],
            [
             0.8,
             "#7fbc41"
            ],
            [
             0.9,
             "#4d9221"
            ],
            [
             1,
             "#276419"
            ]
           ],
           "sequential": [
            [
             0,
             "#0d0887"
            ],
            [
             0.1111111111111111,
             "#46039f"
            ],
            [
             0.2222222222222222,
             "#7201a8"
            ],
            [
             0.3333333333333333,
             "#9c179e"
            ],
            [
             0.4444444444444444,
             "#bd3786"
            ],
            [
             0.5555555555555556,
             "#d8576b"
            ],
            [
             0.6666666666666666,
             "#ed7953"
            ],
            [
             0.7777777777777778,
             "#fb9f3a"
            ],
            [
             0.8888888888888888,
             "#fdca26"
            ],
            [
             1,
             "#f0f921"
            ]
           ],
           "sequentialminus": [
            [
             0,
             "#0d0887"
            ],
            [
             0.1111111111111111,
             "#46039f"
            ],
            [
             0.2222222222222222,
             "#7201a8"
            ],
            [
             0.3333333333333333,
             "#9c179e"
            ],
            [
             0.4444444444444444,
             "#bd3786"
            ],
            [
             0.5555555555555556,
             "#d8576b"
            ],
            [
             0.6666666666666666,
             "#ed7953"
            ],
            [
             0.7777777777777778,
             "#fb9f3a"
            ],
            [
             0.8888888888888888,
             "#fdca26"
            ],
            [
             1,
             "#f0f921"
            ]
           ]
          },
          "colorway": [
           "#636efa",
           "#EF553B",
           "#00cc96",
           "#ab63fa",
           "#FFA15A",
           "#19d3f3",
           "#FF6692",
           "#B6E880",
           "#FF97FF",
           "#FECB52"
          ],
          "font": {
           "color": "#2a3f5f"
          },
          "geo": {
           "bgcolor": "white",
           "lakecolor": "white",
           "landcolor": "#E5ECF6",
           "showlakes": true,
           "showland": true,
           "subunitcolor": "white"
          },
          "hoverlabel": {
           "align": "left"
          },
          "hovermode": "closest",
          "mapbox": {
           "style": "light"
          },
          "paper_bgcolor": "white",
          "plot_bgcolor": "#E5ECF6",
          "polar": {
           "angularaxis": {
            "gridcolor": "white",
            "linecolor": "white",
            "ticks": ""
           },
           "bgcolor": "#E5ECF6",
           "radialaxis": {
            "gridcolor": "white",
            "linecolor": "white",
            "ticks": ""
           }
          },
          "scene": {
           "xaxis": {
            "backgroundcolor": "#E5ECF6",
            "gridcolor": "white",
            "gridwidth": 2,
            "linecolor": "white",
            "showbackground": true,
            "ticks": "",
            "zerolinecolor": "white"
           },
           "yaxis": {
            "backgroundcolor": "#E5ECF6",
            "gridcolor": "white",
            "gridwidth": 2,
            "linecolor": "white",
            "showbackground": true,
            "ticks": "",
            "zerolinecolor": "white"
           },
           "zaxis": {
            "backgroundcolor": "#E5ECF6",
            "gridcolor": "white",
            "gridwidth": 2,
            "linecolor": "white",
            "showbackground": true,
            "ticks": "",
            "zerolinecolor": "white"
           }
          },
          "shapedefaults": {
           "line": {
            "color": "#2a3f5f"
           }
          },
          "ternary": {
           "aaxis": {
            "gridcolor": "white",
            "linecolor": "white",
            "ticks": ""
           },
           "baxis": {
            "gridcolor": "white",
            "linecolor": "white",
            "ticks": ""
           },
           "bgcolor": "#E5ECF6",
           "caxis": {
            "gridcolor": "white",
            "linecolor": "white",
            "ticks": ""
           }
          },
          "title": {
           "x": 0.05
          },
          "xaxis": {
           "automargin": true,
           "gridcolor": "white",
           "linecolor": "white",
           "ticks": "",
           "title": {
            "standoff": 15
           },
           "zerolinecolor": "white",
           "zerolinewidth": 2
          },
          "yaxis": {
           "automargin": true,
           "gridcolor": "white",
           "linecolor": "white",
           "ticks": "",
           "title": {
            "standoff": 15
           },
           "zerolinecolor": "white",
           "zerolinewidth": 2
          }
         }
        },
        "title": {
         "text": "Top-Tier Articles by Score",
         "x": 0.5,
         "xanchor": "center"
        },
        "width": 1300,
        "xaxis": {
         "anchor": "y",
         "automargin": true,
         "autorange": true,
         "domain": [
          0,
          1
         ],
         "range": [
          0,
          67.1071522689508
         ],
         "title": {
          "text": "Score"
         },
         "type": "linear"
        },
        "yaxis": {
         "anchor": "x",
         "automargin": true,
         "autorange": true,
         "domain": [
          0,
          1
         ],
         "range": [
          -0.5,
          9.5
         ],
         "tickfont": {
          "size": 14
         },
         "title": {
          "text": "Article Title"
         },
         "type": "category"
        }
       }
      },
      "image/png": "[encoded data removed]",
      "text/html": [
       "<div>                            <div id=\"b7e9b2dd-ec16-4af8-9188-c6d32c1ac410\" class=\"plotly-graph-div\" style=\"height:700px; width:1300px;\"></div>            <script type=\"text/javascript\">                require([\"plotly\"], function(Plotly) {                    window.PLOTLYENV=window.PLOTLYENV || {};                                    if (document.getElementById(\"b7e9b2dd-ec16-4af8-9188-c6d32c1ac410\")) {                    Plotly.newPlot(                        \"b7e9b2dd-ec16-4af8-9188-c6d32c1ac410\",                        [{\"alignmentgroup\":\"True\",\"customdata\":[[\"Unknown\",\"stanford university\"],[\"Unknown\",\"cornell university\"],[\"brain-wide association studies\",\"vanderbilt university\"]],\"hovertemplate\":\"Journal=nature\\u003cbr\\u003eScore=%{x}\\u003cbr\\u003eTitle=%{y}\\u003cbr\\u003eStudy_Type_Extracted=%{customdata[0]}\\u003cbr\\u003eStandardized_University=%{customdata[1]}\\u003cextra\\u003e\\u003c\\u002fextra\\u003e\",\"legendgroup\":\"nature\",\"marker\":{\"color\":\"#636efa\",\"pattern\":{\"shape\":\"\"}},\"name\":\"nature\",\"offsetgroup\":\"nature\",\"orientation\":\"h\",\"showlegend\":true,\"textposition\":\"auto\",\"x\":[63.751794655503254,61.79093448580096,53.12867307678642],\"xaxis\":\"x\",\"y\":[\"author correction: intravenous and intracranial gd2-car t cells for h3k27m\\u003csup\\u003e+\\u003c\\u002fsup\\u003e diffuse midline gliomas.\",\"fungal symbiont transmitted by free-living mice promotes type 2 immunity.\",\"study design features increase replicability in brain-wide association studies.\"],\"yaxis\":\"y\",\"type\":\"bar\"},{\"alignmentgroup\":\"True\",\"customdata\":[[\"68 studies\",\"zhejiang university\"],[\"scrinshot\",\"stockholm university\"]],\"hovertemplate\":\"Journal=nature methods\\u003cbr\\u003eScore=%{x}\\u003cbr\\u003eTitle=%{y}\\u003cbr\\u003eStudy_Type_Extracted=%{customdata[0]}\\u003cbr\\u003eStandardized_University=%{customdata[1]}\\u003cextra\\u003e\\u003c\\u002fextra\\u003e\",\"legendgroup\":\"nature methods\",\"marker\":{\"color\":\"#EF553B\",\"pattern\":{\"shape\":\"\"}},\"name\":\"nature methods\",\"offsetgroup\":\"nature methods\",\"orientation\":\"h\",\"showlegend\":true,\"textposition\":\"auto\",\"x\":[51.99973044397343,46.4619165581109],\"xaxis\":\"x\",\"y\":[\"integrative mapping of human cd8\\u003csup\\u003e+\\u003c\\u002fsup\\u003e t cells in inflammation and cancer.\",\"probe set selection for targeted spatial transcriptomics.\"],\"yaxis\":\"y\",\"type\":\"bar\"},{\"alignmentgroup\":\"True\",\"customdata\":[[\"clinical trials\",\"zhejiang university\"],[\"Unknown\",\"wuhan university\"]],\"hovertemplate\":\"Journal=molecular cancer\\u003cbr\\u003eScore=%{x}\\u003cbr\\u003eTitle=%{y}\\u003cbr\\u003eStudy_Type_Extracted=%{customdata[0]}\\u003cbr\\u003eStandardized_University=%{customdata[1]}\\u003cextra\\u003e\\u003c\\u002fextra\\u003e\",\"legendgroup\":\"molecular cancer\",\"marker\":{\"color\":\"#00cc96\",\"pattern\":{\"shape\":\"\"}},\"name\":\"molecular cancer\",\"offsetgroup\":\"molecular cancer\",\"orientation\":\"h\",\"showlegend\":true,\"textposition\":\"auto\",\"x\":[40.78108213921989,34.25206421152983],\"xaxis\":\"x\",\"y\":[\"pd-1\\u002fpd-l1 immune checkpoint blockade in breast cancer: research insights and sensitization strategies.\",\"cancer liquid biopsies by oxford nanopore technologies sequencing of cell-free dna: from basic research to clinical applications.\"],\"yaxis\":\"y\",\"type\":\"bar\"},{\"alignmentgroup\":\"True\",\"customdata\":[[\"single-cell analyses\",\"sichuan university\"]],\"hovertemplate\":\"Journal=immunity\\u003cbr\\u003eScore=%{x}\\u003cbr\\u003eTitle=%{y}\\u003cbr\\u003eStudy_Type_Extracted=%{customdata[0]}\\u003cbr\\u003eStandardized_University=%{customdata[1]}\\u003cextra\\u003e\\u003c\\u002fextra\\u003e\",\"legendgroup\":\"immunity\",\"marker\":{\"color\":\"#ab63fa\",\"pattern\":{\"shape\":\"\"}},\"name\":\"immunity\",\"offsetgroup\":\"immunity\",\"orientation\":\"h\",\"showlegend\":true,\"textposition\":\"auto\",\"x\":[38.39304726261817],\"xaxis\":\"x\",\"y\":[\"hypoxia-inducible factor 2\\u03b1 promotes pathogenic polarization of stem-like th2 cells via modulation of phospholipid metabolism.\"],\"yaxis\":\"y\",\"type\":\"bar\"},{\"alignmentgroup\":\"True\",\"customdata\":[[\"preclinical model\",\"zhejiang university\"],[\"preclinical and clinical studies\",\"sichuan university\"]],\"hovertemplate\":\"Journal=journal of hematology & oncology\\u003cbr\\u003eScore=%{x}\\u003cbr\\u003eTitle=%{y}\\u003cbr\\u003eStudy_Type_Extracted=%{customdata[0]}\\u003cbr\\u003eStandardized_University=%{customdata[1]}\\u003cextra\\u003e\\u003c\\u002fextra\\u003e\",\"legendgroup\":\"journal of hematology & oncology\",\"marker\":{\"color\":\"#FFA15A\",\"pattern\":{\"shape\":\"\"}},\"name\":\"journal of hematology & oncology\",\"offsetgroup\":\"journal of hematology & oncology\",\"orientation\":\"h\",\"showlegend\":true,\"textposition\":\"auto\",\"x\":[37.32919035314188,33.450565841642835],\"xaxis\":\"x\",\"y\":[\"a clinical study of autologous chimeric antigen receptor macrophage targeting mesothelin shows safety in ovarian cancer therapy.\",\"personalized nanovaccines for treating solid cancer metastases.\"],\"yaxis\":\"y\",\"type\":\"bar\"}],                        {\"template\":{\"data\":{\"histogram2dcontour\":[{\"type\":\"histogram2dcontour\",\"colorbar\":{\"outlinewidth\":0,\"ticks\":\"\"},\"colorscale\":[[0.0,\"#0d0887\"],[0.1111111111111111,\"#46039f\"],[0.2222222222222222,\"#7201a8\"],[0.3333333333333333,\"#9c179e\"],[0.4444444444444444,\"#bd3786\"],[0.5555555555555556,\"#d8576b\"],[0.6666666666666666,\"#ed7953\"],[0.7777777777777778,\"#fb9f3a\"],[0.8888888888888888,\"#fdca26\"],[1.0,\"#f0f921\"]]}],\"choropleth\":[{\"type\":\"choropleth\",\"colorbar\":{\"outlinewidth\":0,\"ticks\":\"\"}}],\"histogram2d\":[{\"type\":\"histogram2d\",\"colorbar\":{\"outlinewidth\":0,\"ticks\":\"\"},\"colorscale\":[[0.0,\"#0d0887\"],[0.1111111111111111,\"#46039f\"],[0.2222222222222222,\"#7201a8\"],[0.3333333333333333,\"#9c179e\"],[0.4444444444444444,\"#bd3786\"],[0.5555555555555556,\"#d8576b\"],[0.6666666666666666,\"#ed7953\"],[0.7777777777777778,\"#fb9f3a\"],[0.8888888888888888,\"#fdca26\"],[1.0,\"#f0f921\"]]}],\"heatmap\":[{\"type\":\"heatmap\",\"colorbar\":{\"outlinewidth\":0,\"ticks\":\"\"},\"colorscale\":[[0.0,\"#0d0887\"],[0.1111111111111111,\"#46039f\"],[0.2222222222222222,\"#7201a8\"],[0.3333333333333333,\"#9c179e\"],[0.4444444444444444,\"#bd3786\"],[0.5555555555555556,\"#d8576b\"],[0.6666666666666666,\"#ed7953\"],[0.7777777777777778,\"#fb9f3a\"],[0.8888888888888888,\"#fdca26\"],[1.0,\"#f0f921\"]]}],\"heatmapgl\":[{\"type\":\"heatmapgl\",\"colorbar\":{\"outlinewidth\":0,\"ticks\":\"\"},\"colorscale\":[[0.0,\"#0d0887\"],[0.1111111111111111,\"#46039f\"],[0.2222222222222222,\"#7201a8\"],[0.3333333333333333,\"#9c179e\"],[0.4444444444444444,\"#bd3786\"],[0.5555555555555556,\"#d8576b\"],[0.6666666666666666,\"#ed7953\"],[0.7777777777777778,\"#fb9f3a\"],[0.8888888888888888,\"#fdca26\"],[1.0,\"#f0f921\"]]}],\"contourcarpet\":[{\"type\":\"contourcarpet\",\"colorbar\":{\"outlinewidth\":0,\"ticks\":\"\"}}],\"contour\":[{\"type\":\"contour\",\"colorbar\":{\"outlinewidth\":0,\"ticks\":\"\"},\"colorscale\":[[0.0,\"#0d0887\"],[0.1111111111111111,\"#46039f\"],[0.2222222222222222,\"#7201a8\"],[0.3333333333333333,\"#9c179e\"],[0.4444444444444444,\"#bd3786\"],[0.5555555555555556,\"#d8576b\"],[0.6666666666666666,\"#ed7953\"],[0.7777777777777778,\"#fb9f3a\"],[0.8888888888888888,\"#fdca26\"],[1.0,\"#f0f921\"]]}],\"surface\":[{\"type\":\"surface\",\"colorbar\":{\"outlinewidth\":0,\"ticks\":\"\"},\"colorscale\":[[0.0,\"#0d0887\"],[0.1111111111111111,\"#46039f\"],[0.2222222222222222,\"#7201a8\"],[0.3333333333333333,\"#9c179e\"],[0.4444444444444444,\"#bd3786\"],[0.5555555555555556,\"#d8576b\"],[0.6666666666666666,\"#ed7953\"],[0.7777777777777778,\"#fb9f3a\"],[0.8888888888888888,\"#fdca26\"],[1.0,\"#f0f921\"]]}],\"mesh3d\":[{\"type\":\"mesh3d\",\"colorbar\":{\"outlinewidth\":0,\"ticks\":\"\"}}],\"scatter\":[{\"fillpattern\":{\"fillmode\":\"overlay\",\"size\":10,\"solidity\":0.2},\"type\":\"scatter\"}],\"parcoords\":[{\"type\":\"parcoords\",\"line\":{\"colorbar\":{\"outlinewidth\":0,\"ticks\":\"\"}}}],\"scatterpolargl\":[{\"type\":\"scatterpolargl\",\"marker\":{\"colorbar\":{\"outlinewidth\":0,\"ticks\":\"\"}}}],\"bar\":[{\"error_x\":{\"color\":\"#2a3f5f\"},\"error_y\":{\"color\":\"#2a3f5f\"},\"marker\":{\"line\":{\"color\":\"#E5ECF6\",\"width\":0.5},\"pattern\":{\"fillmode\":\"overlay\",\"size\":10,\"solidity\":0.2}},\"type\":\"bar\"}],\"scattergeo\":[{\"type\":\"scattergeo\",\"marker\":{\"colorbar\":{\"outlinewidth\":0,\"ticks\":\"\"}}}],\"scatterpolar\":[{\"type\":\"scatterpolar\",\"marker\":{\"colorbar\":{\"outlinewidth\":0,\"ticks\":\"\"}}}],\"histogram\":[{\"marker\":{\"pattern\":{\"fillmode\":\"overlay\",\"size\":10,\"solidity\":0.2}},\"type\":\"histogram\"}],\"scattergl\":[{\"type\":\"scattergl\",\"marker\":{\"colorbar\":{\"outlinewidth\":0,\"ticks\":\"\"}}}],\"scatter3d\":[{\"type\":\"scatter3d\",\"line\":{\"colorbar\":{\"outlinewidth\":0,\"ticks\":\"\"}},\"marker\":{\"colorbar\":{\"outlinewidth\":0,\"ticks\":\"\"}}}],\"scattermapbox\":[{\"type\":\"scattermapbox\",\"marker\":{\"colorbar\":{\"outlinewidth\":0,\"ticks\":\"\"}}}],\"scatterternary\":[{\"type\":\"scatterternary\",\"marker\":{\"colorbar\":{\"outlinewidth\":0,\"ticks\":\"\"}}}],\"scattercarpet\":[{\"type\":\"scattercarpet\",\"marker\":{\"colorbar\":{\"outlinewidth\":0,\"ticks\":\"\"}}}],\"carpet\":[{\"aaxis\":{\"endlinecolor\":\"#2a3f5f\",\"gridcolor\":\"white\",\"linecolor\":\"white\",\"minorgridcolor\":\"white\",\"startlinecolor\":\"#2a3f5f\"},\"baxis\":{\"endlinecolor\":\"#2a3f5f\",\"gridcolor\":\"white\",\"linecolor\":\"white\",\"minorgridcolor\":\"white\",\"startlinecolor\":\"#2a3f5f\"},\"type\":\"carpet\"}],\"table\":[{\"cells\":{\"fill\":{\"color\":\"#EBF0F8\"},\"line\":{\"color\":\"white\"}},\"header\":{\"fill\":{\"color\":\"#C8D4E3\"},\"line\":{\"color\":\"white\"}},\"type\":\"table\"}],\"barpolar\":[{\"marker\":{\"line\":{\"color\":\"#E5ECF6\",\"width\":0.5},\"pattern\":{\"fillmode\":\"overlay\",\"size\":10,\"solidity\":0.2}},\"type\":\"barpolar\"}],\"pie\":[{\"automargin\":true,\"type\":\"pie\"}]},\"layout\":{\"autotypenumbers\":\"strict\",\"colorway\":[\"#636efa\",\"#EF553B\",\"#00cc96\",\"#ab63fa\",\"#FFA15A\",\"#19d3f3\",\"#FF6692\",\"#B6E880\",\"#FF97FF\",\"#FECB52\"],\"font\":{\"color\":\"#2a3f5f\"},\"hovermode\":\"closest\",\"hoverlabel\":{\"align\":\"left\"},\"paper_bgcolor\":\"white\",\"plot_bgcolor\":\"#E5ECF6\",\"polar\":{\"bgcolor\":\"#E5ECF6\",\"angularaxis\":{\"gridcolor\":\"white\",\"linecolor\":\"white\",\"ticks\":\"\"},\"radialaxis\":{\"gridcolor\":\"white\",\"linecolor\":\"white\",\"ticks\":\"\"}},\"ternary\":{\"bgcolor\":\"#E5ECF6\",\"aaxis\":{\"gridcolor\":\"white\",\"linecolor\":\"white\",\"ticks\":\"\"},\"baxis\":{\"gridcolor\":\"white\",\"linecolor\":\"white\",\"ticks\":\"\"},\"caxis\":{\"gridcolor\":\"white\",\"linecolor\":\"white\",\"ticks\":\"\"}},\"coloraxis\":{\"colorbar\":{\"outlinewidth\":0,\"ticks\":\"\"}},\"colorscale\":{\"sequential\":[[0.0,\"#0d0887\"],[0.1111111111111111,\"#46039f\"],[0.2222222222222222,\"#7201a8\"],[0.3333333333333333,\"#9c179e\"],[0.4444444444444444,\"#bd3786\"],[0.5555555555555556,\"#d8576b\"],[0.6666666666666666,\"#ed7953\"],[0.7777777777777778,\"#fb9f3a\"],[0.8888888888888888,\"#fdca26\"],[1.0,\"#f0f921\"]],\"sequentialminus\":[[0.0,\"#0d0887\"],[0.1111111111111111,\"#46039f\"],[0.2222222222222222,\"#7201a8\"],[0.3333333333333333,\"#9c179e\"],[0.4444444444444444,\"#bd3786\"],[0.5555555555555556,\"#d8576b\"],[0.6666666666666666,\"#ed7953\"],[0.7777777777777778,\"#fb9f3a\"],[0.8888888888888888,\"#fdca26\"],[1.0,\"#f0f921\"]],\"diverging\":[[0,\"#8e0152\"],[0.1,\"#c51b7d\"],[0.2,\"#de77ae\"],[0.3,\"#f1b6da\"],[0.4,\"#fde0ef\"],[0.5,\"#f7f7f7\"],[0.6,\"#e6f5d0\"],[0.7,\"#b8e186\"],[0.8,\"#7fbc41\"],[0.9,\"#4d9221\"],[1,\"#276419\"]]},\"xaxis\":{\"gridcolor\":\"white\",\"linecolor\":\"white\",\"ticks\":\"\",\"title\":{\"standoff\":15},\"zerolinecolor\":\"white\",\"automargin\":true,\"zerolinewidth\":2},\"yaxis\":{\"gridcolor\":\"white\",\"linecolor\":\"white\",\"ticks\":\"\",\"title\":{\"standoff\":15},\"zerolinecolor\":\"white\",\"automargin\":true,\"zerolinewidth\":2},\"scene\":{\"xaxis\":{\"backgroundcolor\":\"#E5ECF6\",\"gridcolor\":\"white\",\"linecolor\":\"white\",\"showbackground\":true,\"ticks\":\"\",\"zerolinecolor\":\"white\",\"gridwidth\":2},\"yaxis\":{\"backgroundcolor\":\"#E5ECF6\",\"gridcolor\":\"white\",\"linecolor\":\"white\",\"showbackground\":true,\"ticks\":\"\",\"zerolinecolor\":\"white\",\"gridwidth\":2},\"zaxis\":{\"backgroundcolor\":\"#E5ECF6\",\"gridcolor\":\"white\",\"linecolor\":\"white\",\"showbackground\":true,\"ticks\":\"\",\"zerolinecolor\":\"white\",\"gridwidth\":2}},\"shapedefaults\":{\"line\":{\"color\":\"#2a3f5f\"}},\"annotationdefaults\":{\"arrowcolor\":\"#2a3f5f\",\"arrowhead\":0,\"arrowwidth\":1},\"geo\":{\"bgcolor\":\"white\",\"landcolor\":\"#E5ECF6\",\"subunitcolor\":\"white\",\"showland\":true,\"showlakes\":true,\"lakecolor\":\"white\"},\"title\":{\"x\":0.05},\"mapbox\":{\"style\":\"light\"}}},\"xaxis\":{\"anchor\":\"y\",\"domain\":[0.0,1.0],\"title\":{\"text\":\"Score\"},\"automargin\":true},\"yaxis\":{\"anchor\":\"x\",\"domain\":[0.0,1.0],\"title\":{\"text\":\"Article Title\"},\"tickfont\":{\"size\":14},\"automargin\":true},\"legend\":{\"title\":{\"text\":\"Journal\"},\"tracegroupgap\":0},\"title\":{\"text\":\"Top-Tier Articles by Score\",\"x\":0.5,\"xanchor\":\"center\"},\"barmode\":\"relative\",\"height\":700,\"width\":1300,\"margin\":{\"l\":500,\"r\":50,\"t\":80,\"b\":50}},                        {\"responsive\": true}                    ).then(function(){\n",
       "                            \n",
       "var gd = document.getElementById('b7e9b2dd-ec16-4af8-9188-c6d32c1ac410');\n",
       "var x = new MutationObserver(function (mutations, observer) {{\n",
       "        var display = window.getComputedStyle(gd).display;\n",
       "        if (!display || display === 'none') {{\n",
       "            console.log([gd, 'removed!']);\n",
       "            Plotly.purge(gd);\n",
       "            observer.disconnect();\n",
       "        }}\n",
       "}});\n",
       "\n",
       "// Listen for the removal of the full notebook cells\n",
       "var notebookContainer = gd.closest('#notebook-container');\n",
       "if (notebookContainer) {{\n",
       "    x.observe(notebookContainer, {childList: true});\n",
       "}}\n",
       "\n",
       "// Listen for the clearing of the current output cell\n",
       "var outputEl = gd.closest('.output');\n",
       "if (outputEl) {{\n",
       "    x.observe(outputEl, {childList: true});\n",
       "}}\n",
       "\n",
       "                        })                };                });            </script>        </div>"
      ]
     },
     "metadata": {},
     "output_type": "display_data"
    }
   ],
   "source": [
    "import plotly.express as px\n",
    "\n",
    "# Example DataFrame of top-tier articles\n",
    "# Replace this with your actual DataFrame\n",
    "df = top_tier_df  # already filtered or sorted by Score\n",
    "\n",
    "fig = px.bar(\n",
    "    df,\n",
    "    x='Score',\n",
    "    y='Title',\n",
    "    orientation='h',\n",
    "    color='Journal',\n",
    "    hover_data=['Study_Type_Extracted', 'Standardized_University'],\n",
    "    title='Top-Tier Articles by Score',\n",
    "    # Make the figure bigger right from the start\n",
    "    width=1300,  \n",
    "    height=700   \n",
    ")\n",
    "\n",
    "# 1. Give extra margin on the left to accommodate long y-axis labels (article titles)\n",
    "fig.update_layout(\n",
    "    margin=dict(l=500, r=50, t=80, b=50),  # Increase left margin significantly\n",
    "    xaxis_title='Score',\n",
    "    yaxis_title='Article Title',\n",
    "    title={\n",
    "        'text': 'Top-Tier Articles by Score',\n",
    "        'x':0.5,              # Center the title\n",
    "        'xanchor':'center'\n",
    "    }\n",
    ")\n",
    "\n",
    "# 2. Adjust y-axis text properties\n",
    "fig.update_yaxes(\n",
    "    automargin=True,         # Allows Plotly to adjust margins if labels are too long\n",
    "    tickfont=dict(size=14)   # Slightly smaller font so titles fit better\n",
    ")\n",
    "\n",
    "# 3. Optionally adjust the x-axis too if needed\n",
    "fig.update_xaxes(automargin=True)\n",
    "\n",
    "fig.show()\n"
   ]
  },
  {
   "cell_type": "code",
   "execution_count": 21,
   "id": "84b34a3b-8a6a-4e7e-9653-88d95c976e1d",
   "metadata": {},
   "outputs": [
    {
     "data": {
      "text/html": [
       "<div>\n",
       "<style scoped>\n",
       "    .dataframe tbody tr th:only-of-type {\n",
       "        vertical-align: middle;\n",
       "    }\n",
       "\n",
       "    .dataframe tbody tr th {\n",
       "        vertical-align: top;\n",
       "    }\n",
       "\n",
       "    .dataframe thead th {\n",
       "        text-align: right;\n",
       "    }\n",
       "</style>\n",
       "<table border=\"1\" class=\"dataframe\">\n",
       "  <thead>\n",
       "    <tr style=\"text-align: right;\">\n",
       "      <th></th>\n",
       "      <th>Unnamed: 0</th>\n",
       "      <th>Title</th>\n",
       "      <th>Abstract</th>\n",
       "      <th>Journal</th>\n",
       "      <th>Language</th>\n",
       "      <th>Year</th>\n",
       "      <th>Month</th>\n",
       "      <th>Authors</th>\n",
       "      <th>Affiliations</th>\n",
       "      <th>Name</th>\n",
       "      <th>...</th>\n",
       "      <th>Universities</th>\n",
       "      <th>Study_Type_Extracted</th>\n",
       "      <th>Standardized_University</th>\n",
       "      <th>Rank</th>\n",
       "      <th>Research_Score</th>\n",
       "      <th>Rank_Median</th>\n",
       "      <th>Research_Score_Category</th>\n",
       "      <th>GMM_Cluster</th>\n",
       "      <th>Score</th>\n",
       "      <th>Tier</th>\n",
       "    </tr>\n",
       "  </thead>\n",
       "  <tbody>\n",
       "    <tr>\n",
       "      <th>231</th>\n",
       "      <td>233</td>\n",
       "      <td>author correction: intravenous and intracrania...</td>\n",
       "      <td>no abstract</td>\n",
       "      <td>nature</td>\n",
       "      <td>eng</td>\n",
       "      <td>2024</td>\n",
       "      <td>Nov</td>\n",
       "      <td>Monje Michelle, Mahdi Jasia, Majzner Robbie, Y...</td>\n",
       "      <td>department of neurology and neurological scien...</td>\n",
       "      <td>nature</td>\n",
       "      <td>...</td>\n",
       "      <td>department of neurology and neurological scien...</td>\n",
       "      <td>Unknown</td>\n",
       "      <td>stanford university</td>\n",
       "      <td>2</td>\n",
       "      <td>97.8</td>\n",
       "      <td>2.0</td>\n",
       "      <td>High (75-100)</td>\n",
       "      <td>2</td>\n",
       "      <td>63.751795</td>\n",
       "      <td>High</td>\n",
       "    </tr>\n",
       "    <tr>\n",
       "      <th>44</th>\n",
       "      <td>44</td>\n",
       "      <td>fungal symbiont transmitted by free-living mic...</td>\n",
       "      <td>the gut mycobiota is crucial for intestinal ho...</td>\n",
       "      <td>nature</td>\n",
       "      <td>eng</td>\n",
       "      <td>2024</td>\n",
       "      <td>Nov</td>\n",
       "      <td>Liao Yun, Gao Iris H, Kusakabe Takato, Lin Woa...</td>\n",
       "      <td>joan and sanford i. weill department of medici...</td>\n",
       "      <td>nature</td>\n",
       "      <td>...</td>\n",
       "      <td>cornell university, cornell university, cornel...</td>\n",
       "      <td>Unknown</td>\n",
       "      <td>cornell university</td>\n",
       "      <td>20</td>\n",
       "      <td>88.7</td>\n",
       "      <td>20.0</td>\n",
       "      <td>High (75-100)</td>\n",
       "      <td>2</td>\n",
       "      <td>61.790934</td>\n",
       "      <td>High</td>\n",
       "    </tr>\n",
       "    <tr>\n",
       "      <th>340</th>\n",
       "      <td>342</td>\n",
       "      <td>study design features increase replicability i...</td>\n",
       "      <td>brain-wide association studies (bwas) are a fu...</td>\n",
       "      <td>nature</td>\n",
       "      <td>eng</td>\n",
       "      <td>2024</td>\n",
       "      <td>Nov</td>\n",
       "      <td>Kang Kaidi, Seidlitz Jakob, Bethlehem Richard ...</td>\n",
       "      <td>department of biostatistics, vanderbilt univer...</td>\n",
       "      <td>nature</td>\n",
       "      <td>...</td>\n",
       "      <td>vanderbilt university medical center, the chil...</td>\n",
       "      <td>brain-wide association studies</td>\n",
       "      <td>vanderbilt university</td>\n",
       "      <td>92</td>\n",
       "      <td>48.5</td>\n",
       "      <td>92.0</td>\n",
       "      <td>Low (0-50)</td>\n",
       "      <td>2</td>\n",
       "      <td>53.128673</td>\n",
       "      <td>High</td>\n",
       "    </tr>\n",
       "    <tr>\n",
       "      <th>225</th>\n",
       "      <td>227</td>\n",
       "      <td>integrative mapping of human cd8&lt;sup&gt;+&lt;/sup&gt; t...</td>\n",
       "      <td>cd8&lt;sup&gt;+&lt;/sup&gt; t cells exhibit remarkable phe...</td>\n",
       "      <td>nature methods</td>\n",
       "      <td>eng</td>\n",
       "      <td>2024</td>\n",
       "      <td>Nov</td>\n",
       "      <td>Xue Ziwei, Wu Lize, Tian Ruonan, Gao Bing, Zha...</td>\n",
       "      <td>department of rheumatology and immunology of t...</td>\n",
       "      <td>nature methods</td>\n",
       "      <td>...</td>\n",
       "      <td>zhejiang university, university of edinburgh i...</td>\n",
       "      <td>68 studies</td>\n",
       "      <td>zhejiang university</td>\n",
       "      <td>55</td>\n",
       "      <td>75.3</td>\n",
       "      <td>55.0</td>\n",
       "      <td>High (75-100)</td>\n",
       "      <td>2</td>\n",
       "      <td>51.999730</td>\n",
       "      <td>Medium</td>\n",
       "    </tr>\n",
       "    <tr>\n",
       "      <th>472</th>\n",
       "      <td>474</td>\n",
       "      <td>probe set selection for targeted spatial trans...</td>\n",
       "      <td>targeted spatial transcriptomic methods captur...</td>\n",
       "      <td>nature methods</td>\n",
       "      <td>eng</td>\n",
       "      <td>2024</td>\n",
       "      <td>Nov</td>\n",
       "      <td>Kuemmerle Louis B, Luecken Malte D, Firsova Al...</td>\n",
       "      <td>institute of computational biology, helmholtz ...</td>\n",
       "      <td>nature methods</td>\n",
       "      <td>...</td>\n",
       "      <td>institute of computational biology, institute ...</td>\n",
       "      <td>scrinshot</td>\n",
       "      <td>stockholm university</td>\n",
       "      <td>185</td>\n",
       "      <td>49.6</td>\n",
       "      <td>185.0</td>\n",
       "      <td>Low (0-50)</td>\n",
       "      <td>2</td>\n",
       "      <td>46.461917</td>\n",
       "      <td>Medium</td>\n",
       "    </tr>\n",
       "  </tbody>\n",
       "</table>\n",
       "<p>5 rows × 26 columns</p>\n",
       "</div>"
      ],
      "text/plain": [
       "     Unnamed: 0                                              Title  \\\n",
       "231         233  author correction: intravenous and intracrania...   \n",
       "44           44  fungal symbiont transmitted by free-living mic...   \n",
       "340         342  study design features increase replicability i...   \n",
       "225         227  integrative mapping of human cd8<sup>+</sup> t...   \n",
       "472         474  probe set selection for targeted spatial trans...   \n",
       "\n",
       "                                              Abstract         Journal  \\\n",
       "231                                        no abstract          nature   \n",
       "44   the gut mycobiota is crucial for intestinal ho...          nature   \n",
       "340  brain-wide association studies (bwas) are a fu...          nature   \n",
       "225  cd8<sup>+</sup> t cells exhibit remarkable phe...  nature methods   \n",
       "472  targeted spatial transcriptomic methods captur...  nature methods   \n",
       "\n",
       "    Language  Year Month                                            Authors  \\\n",
       "231      eng  2024   Nov  Monje Michelle, Mahdi Jasia, Majzner Robbie, Y...   \n",
       "44       eng  2024   Nov  Liao Yun, Gao Iris H, Kusakabe Takato, Lin Woa...   \n",
       "340      eng  2024   Nov  Kang Kaidi, Seidlitz Jakob, Bethlehem Richard ...   \n",
       "225      eng  2024   Nov  Xue Ziwei, Wu Lize, Tian Ruonan, Gao Bing, Zha...   \n",
       "472      eng  2024   Nov  Kuemmerle Louis B, Luecken Malte D, Firsova Al...   \n",
       "\n",
       "                                          Affiliations            Name  ...  \\\n",
       "231  department of neurology and neurological scien...          nature  ...   \n",
       "44   joan and sanford i. weill department of medici...          nature  ...   \n",
       "340  department of biostatistics, vanderbilt univer...          nature  ...   \n",
       "225  department of rheumatology and immunology of t...  nature methods  ...   \n",
       "472  institute of computational biology, helmholtz ...  nature methods  ...   \n",
       "\n",
       "                                          Universities  \\\n",
       "231  department of neurology and neurological scien...   \n",
       "44   cornell university, cornell university, cornel...   \n",
       "340  vanderbilt university medical center, the chil...   \n",
       "225  zhejiang university, university of edinburgh i...   \n",
       "472  institute of computational biology, institute ...   \n",
       "\n",
       "               Study_Type_Extracted Standardized_University  Rank  \\\n",
       "231                         Unknown     stanford university     2   \n",
       "44                          Unknown      cornell university    20   \n",
       "340  brain-wide association studies   vanderbilt university    92   \n",
       "225                      68 studies     zhejiang university    55   \n",
       "472                       scrinshot    stockholm university   185   \n",
       "\n",
       "     Research_Score Rank_Median Research_Score_Category GMM_Cluster  \\\n",
       "231            97.8         2.0           High (75-100)           2   \n",
       "44             88.7        20.0           High (75-100)           2   \n",
       "340            48.5        92.0              Low (0-50)           2   \n",
       "225            75.3        55.0           High (75-100)           2   \n",
       "472            49.6       185.0              Low (0-50)           2   \n",
       "\n",
       "         Score    Tier  \n",
       "231  63.751795    High  \n",
       "44   61.790934    High  \n",
       "340  53.128673    High  \n",
       "225  51.999730  Medium  \n",
       "472  46.461917  Medium  \n",
       "\n",
       "[5 rows x 26 columns]"
      ]
     },
     "execution_count": 21,
     "metadata": {},
     "output_type": "execute_result"
    }
   ],
   "source": [
    "df['Tier'] = pd.qcut(df['Score'], q=3, labels=['Low', 'Medium', 'High'])\n",
    "df.head()"
   ]
  },
  {
   "cell_type": "code",
   "execution_count": 22,
   "id": "5a3ca085-f553-492d-8bc6-aeeaf78dee74",
   "metadata": {},
   "outputs": [],
   "source": [
    "import plotly.express as px\n",
    "from plotly.subplots import make_subplots\n",
    "import plotly.graph_objects as go\n",
    "\n",
    "# Step 1: Create the subplot \"canvas\"\n",
    "fig = make_subplots(\n",
    "    rows=1, cols=2,  # 1 row, 2 columns\n",
    "    subplot_titles=(\"Journal vs. Score\", \"Journal vs. Tier\")\n",
    ")\n"
   ]
  },
  {
   "cell_type": "code",
   "execution_count": 19,
   "id": "14627be1-bf69-43bb-9ff3-0dcf932e6903",
   "metadata": {},
   "outputs": [],
   "source": [
    "def extract_high_tier_abstracts(df, tier_column, abstract_column, output_file):\n",
    "    # Filter for \"High\" tier and exclude rows with \"no abstract\"\n",
    "    high_tier_df = df[(df[tier_column] == 'High') & (df[abstract_column].str.lower() != 'no abstract')]\n",
    "    \n",
    "    # Sort by score and select top 10\n",
    "    top_abstracts = high_tier_df.nlargest(10, 'Score')[abstract_column]\n",
    "    \n",
    "    # Save abstracts to a .txt file\n",
    "    with open(output_file, 'w') as file:\n",
    "        for i, abstract in enumerate(top_abstracts, 1):\n",
    "            file.write(f\"Abstract {i}:\\n{abstract}\\n\\n\")\n",
    "    print(f\"Saved top 10 abstracts to {output_file}\")\n"
   ]
  },
  {
   "cell_type": "code",
   "execution_count": 20,
   "id": "b294352b-b6f9-43fc-ba5f-e4924dc83607",
   "metadata": {},
   "outputs": [
    {
     "name": "stdout",
     "output_type": "stream",
     "text": [
      "Saved top 10 abstracts to top_10_abstracts.txt\n"
     ]
    }
   ],
   "source": [
    "tier_column = 'Tier'\n",
    "abstract_column = 'Abstract'\n",
    "output_abstracts_file = 'top_10_abstracts.txt'\n",
    "extract_high_tier_abstracts(df, tier_column, abstract_column, output_abstracts_file)\n"
   ]
  },
  {
   "cell_type": "code",
   "execution_count": null,
   "id": "bac4b944-ee3f-46df-a6e7-efe498a09d77",
   "metadata": {},
   "outputs": [],
   "source": []
  }
 ],
 "metadata": {
  "kernelspec": {
   "display_name": "Python 3 (ipykernel)",
   "language": "python",
   "name": "python3"
  },
  "language_info": {
   "codemirror_mode": {
    "name": "ipython",
    "version": 3
   },
   "file_extension": ".py",
   "mimetype": "text/x-python",
   "name": "python",
   "nbconvert_exporter": "python",
   "pygments_lexer": "ipython3",
   "version": "3.8.19"
  }
 },
 "nbformat": 4,
 "nbformat_minor": 5
}
